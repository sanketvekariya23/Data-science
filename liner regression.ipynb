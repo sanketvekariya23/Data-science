{
 "cells": [
  {
   "cell_type": "code",
   "execution_count": 5,
   "id": "767017b9",
   "metadata": {},
   "outputs": [
    {
     "name": "stdout",
     "output_type": "stream",
     "text": [
      "Defaulting to user installation because normal site-packages is not writeable\n",
      "Requirement already satisfied: sklearn in c:\\users\\sanket vekariya\\appdata\\roaming\\python\\python311\\site-packages (0.0.post10)\n",
      "Note: you may need to restart the kernel to use updated packages.\n"
     ]
    }
   ],
   "source": [
    "pip install sklearn"
   ]
  },
  {
   "cell_type": "code",
   "execution_count": null,
   "id": "94e0e2aa",
   "metadata": {},
   "outputs": [],
   "source": [
    "import pandas as pd\n",
    "df= pd.read_csv('iphone.csv')\n",
    "from sklearn.linear_model import linearRegression\n",
    "lr = linerRegression()\n",
    "x = df['iphonenumber'].values.reshape(-1,1)\n",
    "y = df['price']\n",
    "lr.fit(x,y)\n",
    "lr.predict([[14]])\n",
    "predicted = lr.predict(x)\n",
    "import matplotlib.pyplot as plt\n",
    "%matplotlib inline\n",
    "plt.scatter(df['iphonenumber'], df['price'],c = 'r')\n",
    "plt.scatter(df['iphonenumber'], predicted,c = 'r')"
   ]
  },
  {
   "cell_type": "code",
   "execution_count": null,
   "id": "bc83a7de",
   "metadata": {},
   "outputs": [],
   "source": []
  }
 ],
 "metadata": {
  "kernelspec": {
   "display_name": "Python 3 (ipykernel)",
   "language": "python",
   "name": "python3"
  },
  "language_info": {
   "codemirror_mode": {
    "name": "ipython",
    "version": 3
   },
   "file_extension": ".py",
   "mimetype": "text/x-python",
   "name": "python",
   "nbconvert_exporter": "python",
   "pygments_lexer": "ipython3",
   "version": "3.11.4"
  }
 },
 "nbformat": 4,
 "nbformat_minor": 5
}
